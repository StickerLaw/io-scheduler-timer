{
 "cells": [
  {
   "cell_type": "code",
   "execution_count": 1,
   "metadata": {
    "collapsed": false
   },
   "outputs": [],
   "source": [
    "import pandas as pd\n",
    "import re\n",
    "import matplotlib.pyplot as plt"
   ]
  },
  {
   "cell_type": "code",
   "execution_count": 2,
   "metadata": {
    "collapsed": false
   },
   "outputs": [],
   "source": [
    "base = \"../data/\"\n",
    "total = \"data\"\n",
    "ext = \".csv\"\n",
    "header = (\"cfq\", \"deadline\", \"noop\")\n",
    "\n",
    "f = base + total + ext\n",
    "df = pd.read_csv(f, header=None)\n",
    "\n",
    "df\n",
    "\n",
    "def collect_read_times(file_name):\n",
    "    \"\"\"Read thread times from a file.\"\"\"\n",
    "    f = open(file_name)\n",
    "    times = []\n",
    "    # Regular expression to find floats\n",
    "    time = re.compile(\"(\\d+\\.\\d+)\")\n",
    "\n",
    "    for line in f:\n",
    "        match = time.match(line)\n",
    "\n",
    "        if (match):\n",
    "            t = float(match.group(1))\n",
    "            times.append(t)\n",
    "\n",
    "    return times\n",
    "\n",
    "def get_read_times():\n",
    "    \"\"\"Collect timing information about all schedulers and store in csv files\"\"\"\n",
    "    schedulers = [\"cfq\", \"deadline\", \"noop\"]\n",
    "    base = \"../data/\"\n",
    "    ext = \".log\"\n",
    "    header=(\"cfq\", \"deadline\", \"noop\")\n",
    "\n",
    "    # Collect all times in one file\n",
    "    times = {key: [] for key in schedulers}\n",
    "    for s in schedulers:\n",
    "        f = base+s+ext\n",
    "        times[s] = collect_read_times(f)\n",
    "    # Write to file\n",
    "    df = pd.DataFrame(times)\n",
    "    return df"
   ]
  },
  {
   "cell_type": "code",
   "execution_count": 3,
   "metadata": {
    "collapsed": false
   },
   "outputs": [
    {
     "data": {
      "text/html": [
       "<div>\n",
       "<table border=\"1\" class=\"dataframe\">\n",
       "  <thead>\n",
       "    <tr style=\"text-align: right;\">\n",
       "      <th></th>\n",
       "      <th>cfq</th>\n",
       "      <th>noop</th>\n",
       "      <th>deadline</th>\n",
       "    </tr>\n",
       "  </thead>\n",
       "  <tbody>\n",
       "    <tr>\n",
       "      <th>count</th>\n",
       "      <td>10.000000</td>\n",
       "      <td>1.000000e+01</td>\n",
       "      <td>1.000000e+01</td>\n",
       "    </tr>\n",
       "    <tr>\n",
       "      <th>mean</th>\n",
       "      <td>0.052000</td>\n",
       "      <td>5.000000e-02</td>\n",
       "      <td>5.000000e-02</td>\n",
       "    </tr>\n",
       "    <tr>\n",
       "      <th>std</th>\n",
       "      <td>0.004216</td>\n",
       "      <td>7.314236e-18</td>\n",
       "      <td>7.314236e-18</td>\n",
       "    </tr>\n",
       "    <tr>\n",
       "      <th>min</th>\n",
       "      <td>0.050000</td>\n",
       "      <td>5.000000e-02</td>\n",
       "      <td>5.000000e-02</td>\n",
       "    </tr>\n",
       "    <tr>\n",
       "      <th>25%</th>\n",
       "      <td>0.050000</td>\n",
       "      <td>5.000000e-02</td>\n",
       "      <td>5.000000e-02</td>\n",
       "    </tr>\n",
       "    <tr>\n",
       "      <th>50%</th>\n",
       "      <td>0.050000</td>\n",
       "      <td>5.000000e-02</td>\n",
       "      <td>5.000000e-02</td>\n",
       "    </tr>\n",
       "    <tr>\n",
       "      <th>75%</th>\n",
       "      <td>0.050000</td>\n",
       "      <td>5.000000e-02</td>\n",
       "      <td>5.000000e-02</td>\n",
       "    </tr>\n",
       "    <tr>\n",
       "      <th>max</th>\n",
       "      <td>0.060000</td>\n",
       "      <td>5.000000e-02</td>\n",
       "      <td>5.000000e-02</td>\n",
       "    </tr>\n",
       "  </tbody>\n",
       "</table>\n",
       "</div>"
      ],
      "text/plain": [
       "0            cfq          noop      deadline\n",
       "count  10.000000  1.000000e+01  1.000000e+01\n",
       "mean    0.052000  5.000000e-02  5.000000e-02\n",
       "std     0.004216  7.314236e-18  7.314236e-18\n",
       "min     0.050000  5.000000e-02  5.000000e-02\n",
       "25%     0.050000  5.000000e-02  5.000000e-02\n",
       "50%     0.050000  5.000000e-02  5.000000e-02\n",
       "75%     0.050000  5.000000e-02  5.000000e-02\n",
       "max     0.060000  5.000000e-02  5.000000e-02"
      ]
     },
     "execution_count": 3,
     "metadata": {},
     "output_type": "execute_result"
    }
   ],
   "source": [
    "df = pd.read_csv(f, header=None, index_col=0)\n",
    "df = df.transpose()\n",
    "df.describe()"
   ]
  },
  {
   "cell_type": "code",
   "execution_count": 4,
   "metadata": {
    "collapsed": false
   },
   "outputs": [
    {
     "data": {
      "text/html": [
       "<div>\n",
       "<table border=\"1\" class=\"dataframe\">\n",
       "  <thead>\n",
       "    <tr style=\"text-align: right;\">\n",
       "      <th></th>\n",
       "      <th>cfq</th>\n",
       "      <th>deadline</th>\n",
       "      <th>noop</th>\n",
       "    </tr>\n",
       "  </thead>\n",
       "  <tbody>\n",
       "    <tr>\n",
       "      <th>count</th>\n",
       "      <td>4.272000e+04</td>\n",
       "      <td>4.272000e+04</td>\n",
       "      <td>4.272000e+04</td>\n",
       "    </tr>\n",
       "    <tr>\n",
       "      <th>mean</th>\n",
       "      <td>3.219272e-06</td>\n",
       "      <td>3.166068e-06</td>\n",
       "      <td>3.104595e-06</td>\n",
       "    </tr>\n",
       "    <tr>\n",
       "      <th>std</th>\n",
       "      <td>8.937756e-06</td>\n",
       "      <td>7.733106e-06</td>\n",
       "      <td>5.705920e-06</td>\n",
       "    </tr>\n",
       "    <tr>\n",
       "      <th>min</th>\n",
       "      <td>2.000000e-08</td>\n",
       "      <td>2.000000e-08</td>\n",
       "      <td>2.000000e-08</td>\n",
       "    </tr>\n",
       "    <tr>\n",
       "      <th>25%</th>\n",
       "      <td>4.200000e-08</td>\n",
       "      <td>4.100000e-08</td>\n",
       "      <td>4.100000e-08</td>\n",
       "    </tr>\n",
       "    <tr>\n",
       "      <th>50%</th>\n",
       "      <td>7.300000e-08</td>\n",
       "      <td>6.300000e-08</td>\n",
       "      <td>6.100000e-08</td>\n",
       "    </tr>\n",
       "    <tr>\n",
       "      <th>75%</th>\n",
       "      <td>5.852500e-07</td>\n",
       "      <td>5.130000e-07</td>\n",
       "      <td>4.960000e-07</td>\n",
       "    </tr>\n",
       "    <tr>\n",
       "      <th>max</th>\n",
       "      <td>1.431250e-03</td>\n",
       "      <td>8.991410e-04</td>\n",
       "      <td>2.042760e-04</td>\n",
       "    </tr>\n",
       "  </tbody>\n",
       "</table>\n",
       "</div>"
      ],
      "text/plain": [
       "                cfq      deadline          noop\n",
       "count  4.272000e+04  4.272000e+04  4.272000e+04\n",
       "mean   3.219272e-06  3.166068e-06  3.104595e-06\n",
       "std    8.937756e-06  7.733106e-06  5.705920e-06\n",
       "min    2.000000e-08  2.000000e-08  2.000000e-08\n",
       "25%    4.200000e-08  4.100000e-08  4.100000e-08\n",
       "50%    7.300000e-08  6.300000e-08  6.100000e-08\n",
       "75%    5.852500e-07  5.130000e-07  4.960000e-07\n",
       "max    1.431250e-03  8.991410e-04  2.042760e-04"
      ]
     },
     "execution_count": 4,
     "metadata": {},
     "output_type": "execute_result"
    }
   ],
   "source": [
    "# Get individual read times\n",
    "read_df = get_read_times()\n",
    "\n",
    "read_df.describe()"
   ]
  },
  {
   "cell_type": "code",
   "execution_count": 5,
   "metadata": {
    "collapsed": false
   },
   "outputs": [
    {
     "data": {
      "image/png": "[encoded data removed]",
      "text/plain": [
       "<matplotlib.figure.Figure at 0x7fd217f19470>"
      ]
     },
     "execution_count": 5,
     "metadata": {},
     "output_type": "execute_result"
    }
   ],
   "source": [
    "ax = read_df.plot.kde()\n",
    "ax.set_xlabel(\"Time (s)\")\n",
    "ax.set_xlim([0, 0.00003])\n",
    "fig = ax.get_figure()\n",
    "fig"
   ]
  },
  {
   "cell_type": "code",
   "execution_count": 6,
   "metadata": {
    "collapsed": false
   },
   "outputs": [
    {
     "data": {
      "image/png": "[encoded data removed]",
      "text/plain": [
       "<matplotlib.figure.Figure at 0x7fd21795a438>"
      ]
     },
     "execution_count": 6,
     "metadata": {},
     "output_type": "execute_result"
    }
   ],
   "source": [
    "ax = read_df.plot.box(figsize=(4.5,3))\n",
    "ax.set_ylabel(\"Time (s)\")\n",
    "ax.set_ylim([0, 0.0001])\n",
    "fig = ax.get_figure()\n",
    "fig"
   ]
  },
  {
   "cell_type": "code",
   "execution_count": null,
   "metadata": {
    "collapsed": false
   },
   "outputs": [],
   "source": []
  },
  {
   "cell_type": "code",
   "execution_count": null,
   "metadata": {
    "collapsed": true
   },
   "outputs": [],
   "source": []
  }
 ],
 "metadata": {
  "anaconda-cloud": {},
  "kernelspec": {
   "display_name": "Python [default]",
   "language": "python",
   "name": "python3"
  },
  "language_info": {
   "codemirror_mode": {
    "name": "ipython",
    "version": 3
   },
   "file_extension": ".py",
   "mimetype": "text/x-python",
   "name": "python",
   "nbconvert_exporter": "python",
   "pygments_lexer": "ipython3",
   "version": "3.5.2"
  }
 },
 "nbformat": 4,
 "nbformat_minor": 1
}
